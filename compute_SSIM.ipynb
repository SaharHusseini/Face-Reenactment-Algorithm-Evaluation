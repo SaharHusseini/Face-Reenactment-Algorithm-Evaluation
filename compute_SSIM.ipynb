{
 "cells": [
  {
   "attachments": {},
   "cell_type": "markdown",
   "metadata": {},
   "source": [
    "This script computes the SSIM score for different head rotations. \n",
    "You need to install skimage, pandas, PIL, cv2 libreries"
   ]
  },
  {
   "cell_type": "code",
   "execution_count": 1,
   "metadata": {},
   "outputs": [],
   "source": [
    "import os\n",
    "from skimage.metrics import structural_similarity as ssim\n",
    "import glob\n",
    "import pandas as pd\n",
    "from skimage import data, img_as_float\n",
    "from PIL import Image\n",
    "import os\n",
    "# from deepface import DeepFace\n",
    "import cv2\n",
    "from pathlib import Path"
   ]
  },
  {
   "attachments": {},
   "cell_type": "markdown",
   "metadata": {},
   "source": [
    "Change following paths to match your ground-truth path (ground_truth_parent_directory) and path where the generated frames by your algorithm  are located (generated_parent_directory)"
   ]
  },
  {
   "cell_type": "code",
   "execution_count": 2,
   "metadata": {},
   "outputs": [],
   "source": [
    "ground_truth_parent_directory = '3D_real_head_dataset/images/ground_truth/'\n",
    "generated_parent_directory = 'DAGAN_results_3D_heads/'\n",
    "#generated_parent_directory = 'FOM_results_3D_head/'\n"
   ]
  },
  {
   "cell_type": "code",
   "execution_count": 3,
   "metadata": {},
   "outputs": [],
   "source": [
    "\n",
    "#Directories containing ground-truth \n",
    "ground_truth_directories = [ground_truth_parent_directory+d for d in os.listdir(ground_truth_parent_directory) \n",
    "                            if os.path.isdir(os.path.join(ground_truth_parent_directory, d))]\n",
    "#Directories containing generated reenactment frames \n",
    "generated_directories = [generated_parent_directory+d for d in os.listdir(generated_parent_directory) \n",
    "                         if os.path.isdir(os.path.join(generated_parent_directory, d))] \n",
    "\n",
    "#For each ground-truth find all deepfake folders that contain the same head rotation.\n",
    "#ground-truth folder is key and the value is gnerated folders (both contain the same head rotation)\n",
    "gt_gen_path_dict = {}\n",
    "for dir_gt in ground_truth_directories:\n",
    "    rotation_type_gt = dir_gt.split('/')[-1].split('_')[0] #head rotation of ground-truth\n",
    "    if rotation_type_gt not in gt_gen_path_dict:\n",
    "                gt_gen_path_dict[dir_gt] = []\n",
    "    #if the same head rotation is found in generated folder, add it as a value to dict\n",
    "    for dir_gen in generated_directories: \n",
    "        rotation_type_gen = dir_gen.split('/')[-1].split('_')[0]\n",
    "        \n",
    "        if rotation_type_gen == rotation_type_gt:\n",
    "            gt_gen_path_dict[dir_gt].append(dir_gen)"
   ]
  },
  {
   "cell_type": "code",
   "execution_count": 4,
   "metadata": {},
   "outputs": [],
   "source": [
    "def compute_SSIM(orig_frame, fake_frame):\n",
    "    \"\"\"\n",
    "    Compute SSIM score between video frames.\n",
    "    Args:\n",
    "    orig_frame: ground-truth frame.\n",
    "    fake_frame: fake frame\n",
    "    Returns:\n",
    "    SSIM score between ground-truth and fake frame\n",
    "    \"\"\"\n",
    "    ground_truth_image = img_as_float(Image.open(fake_frame))\n",
    "    generated = img_as_float(Image.open(orig_frame))\n",
    "  \n",
    "    ssim_score = ssim(ground_truth_image,generated, data_range=ground_truth_image.max() -\n",
    "                      ground_truth_image.min(), multichannel=True)  \n",
    "    return ssim_score\n",
    "\n",
    "\n",
    "def compute_ssim_per_frame(original_path, path1, path2, path3, path4):\n",
    "    \"\"\"\n",
    "    Compute SSIM between ground truth and generated frames for one video (100 frames). We use 4 different \n",
    "    identities to generate the same head rotation \n",
    "    Args:\n",
    "    original_path: path to ground-truth directory\n",
    "    path1, path2, path3, path4: path to deepfake generated directories. Inside each path we have fake frames generated\n",
    "    by different identities\n",
    "    Returns:\n",
    "    A list of SSIM scores between the ground-truth frames and fake frames. The score for each frame is the average\n",
    "    over the four generated images.\n",
    "    \"\"\"\n",
    "    ssim_list = []\n",
    "    ground_truth_frames_212 = [original_path + '/' + d for d in sorted(os.listdir(original_path))]\n",
    "    generated_frames_122 = [path1 + '/' + d for d in sorted(os.listdir(path1))]\n",
    "    generated_frames_340 = [path2 + '/' + d for d in sorted(os.listdir(path2))]\n",
    "    generated_frames_344 = [path3 + '/' + d for d in sorted(os.listdir(path3))]\n",
    "    generated_frames_359 = [path4 + '/' + d for d in sorted(os.listdir(path4))]\n",
    "    print(original_path)\n",
    "    for ground_truth, gen_122, gen_340, gen_344, gen_359 in zip(ground_truth_frames_212, \n",
    "                                                            generated_frames_122, \n",
    "                                                            generated_frames_340,\n",
    "                                                            generated_frames_344,\n",
    "                                                            generated_frames_359):\n",
    "        \n",
    "        SSIM_score_122 = compute_SSIM(ground_truth, gen_122 )\n",
    "        SSIM_score_340 = compute_SSIM(ground_truth, gen_340)\n",
    "        SSIM_score_344 = compute_SSIM(ground_truth, gen_344)\n",
    "        SSIM_score_359= compute_SSIM(ground_truth, gen_359)\n",
    "        \n",
    "        mean_ssim = (SSIM_score_122+SSIM_score_340+SSIM_score_344+SSIM_score_359)/4 \n",
    "        ssim_list.append(mean_ssim)\n",
    "    return ssim_list"
   ]
  },
  {
   "cell_type": "code",
   "execution_count": 5,
   "metadata": {},
   "outputs": [
    {
     "name": "stdout",
     "output_type": "stream",
     "text": [
      "pitchNegative\n",
      "3D_real_head_dataset/images/ground_truth/pitchNegative_id212\n"
     ]
    },
    {
     "name": "stderr",
     "output_type": "stream",
     "text": [
      "/tmp/ipykernel_22057/3936677592.py:13: FutureWarning: `multichannel` is a deprecated argument name for `structural_similarity`. It will be removed in version 1.0. Please use `channel_axis` instead.\n",
      "  ssim_score = ssim(ground_truth_image,generated, data_range=ground_truth_image.max() -\n"
     ]
    },
    {
     "name": "stdout",
     "output_type": "stream",
     "text": [
      "pitchPositive\n",
      "yawPositive\n",
      "3D_real_head_dataset/images/ground_truth/yawPositive_id212\n"
     ]
    },
    {
     "name": "stderr",
     "output_type": "stream",
     "text": [
      "/tmp/ipykernel_22057/3936677592.py:13: FutureWarning: `multichannel` is a deprecated argument name for `structural_similarity`. It will be removed in version 1.0. Please use `channel_axis` instead.\n",
      "  ssim_score = ssim(ground_truth_image,generated, data_range=ground_truth_image.max() -\n"
     ]
    },
    {
     "name": "stdout",
     "output_type": "stream",
     "text": [
      "pitchYawNegative\n",
      "yawNegative\n",
      "pitchYawPositive\n",
      "3D_real_head_dataset/images/ground_truth/pitchYawPositive_id212\n"
     ]
    },
    {
     "name": "stderr",
     "output_type": "stream",
     "text": [
      "/tmp/ipykernel_22057/3936677592.py:13: FutureWarning: `multichannel` is a deprecated argument name for `structural_similarity`. It will be removed in version 1.0. Please use `channel_axis` instead.\n",
      "  ssim_score = ssim(ground_truth_image,generated, data_range=ground_truth_image.max() -\n"
     ]
    },
    {
     "name": "stdout",
     "output_type": "stream",
     "text": [
      "    image_name  pitchNegative  yawPositive  pitchYawPositive\n",
      "0   00000.jpeg       0.917998     0.917998          0.917998\n",
      "1   00001.jpeg       0.893537     0.894172          0.873089\n",
      "2   00002.jpeg       0.889004     0.892519          0.872150\n",
      "3   00003.jpeg       0.884587     0.889876          0.869198\n",
      "4   00004.jpeg       0.884138     0.887082          0.863792\n",
      "..         ...            ...          ...               ...\n",
      "95  00095.jpeg       0.766096     0.735193          0.641273\n",
      "96  00096.jpeg       0.764699     0.730839          0.638651\n",
      "97  00097.jpeg       0.765460     0.730800          0.635814\n",
      "98  00098.jpeg       0.764779     0.729581          0.636788\n",
      "99  00099.jpeg       0.763687     0.728584          0.632908\n",
      "\n",
      "[100 rows x 4 columns]\n"
     ]
    }
   ],
   "source": [
    "def main():\n",
    "    \n",
    "    # Create a dataframe to store image name and SSIM score for different head rotation per frame\n",
    "    dataframe = pd.DataFrame({'image_name': []})\n",
    "    for groundtruth_path, generate_path  in gt_gen_path_dict.items():\n",
    "        names = [d for d in sorted(os.listdir(groundtruth_path))] #video frame names\n",
    "        dataframe[\"image_name\"] = names \n",
    "        ssim_list = []\n",
    "        rotatio_type = groundtruth_path.split('/')[-1].split('_')[0]\n",
    "        print(rotatio_type)\n",
    "        #In the paper we only evaluate the three head rotations below\n",
    "        if rotatio_type == \"pitchNegative\": #head rotation of ground-truth\n",
    "            ssim_list = compute_ssim_per_frame(groundtruth_path, generate_path[0], generate_path[1], \n",
    "                                                generate_path[2], generate_path[3])\n",
    "            dataframe[\"pitchNegative\"] = ssim_list\n",
    "            \n",
    "            \n",
    "        if rotatio_type == \"yawPositive\": #head rotation of ground-truth\n",
    "            ssim_list = compute_ssim_per_frame(groundtruth_path, generate_path[0], generate_path[1], \n",
    "                                                generate_path[2], generate_path[3])\n",
    "            dataframe[\"yawPositive\"] = ssim_list\n",
    "            \n",
    "                    \n",
    "        if rotatio_type == \"pitchYawPositive\": #head rotation of ground-truth\n",
    "            ssim_list = compute_ssim_per_frame(groundtruth_path, generate_path[0], generate_path[1], \n",
    "                                                generate_path[2], generate_path[3])\n",
    "            dataframe[\"pitchYawPositive\"] = ssim_list\n",
    "    \n",
    "    print(dataframe)   \n",
    "    csv_path =   \"cv_scores/\"+generated_parent_directory\n",
    "    if not os.path.exists(csv_path):\n",
    "        os.makedirs(csv_path, exist_ok=True)\n",
    "                \n",
    "    dataframe.to_csv(csv_path+\"ssim_scores_per_frame.csv\")  \n",
    "\n",
    "if __name__ == \"__main__\":\n",
    "    main()\n"
   ]
  },
  {
   "cell_type": "code",
   "execution_count": null,
   "metadata": {},
   "outputs": [],
   "source": []
  }
 ],
 "metadata": {
  "kernelspec": {
   "display_name": "Python 3",
   "language": "python",
   "name": "python3"
  },
  "language_info": {
   "codemirror_mode": {
    "name": "ipython",
    "version": 3
   },
   "file_extension": ".py",
   "mimetype": "text/x-python",
   "name": "python",
   "nbconvert_exporter": "python",
   "pygments_lexer": "ipython3",
   "version": "3.8.13"
  },
  "orig_nbformat": 4
 },
 "nbformat": 4,
 "nbformat_minor": 2
}
